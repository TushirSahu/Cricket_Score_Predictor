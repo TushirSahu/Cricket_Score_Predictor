{
  "nbformat": 4,
  "nbformat_minor": 0,
  "metadata": {
    "colab": {
      "name": "Cricket_Score_Predictor.ipynb",
      "provenance": [],
      "authorship_tag": "ABX9TyPmRJgyhRxZP54bHclW/2yz"
    },
    "kernelspec": {
      "name": "python3",
      "display_name": "Python 3"
    },
    "language_info": {
      "name": "python"
    }
  },
  "cells": [
    {
      "cell_type": "code",
      "execution_count": null,
      "metadata": {
        "id": "4GS1ZCcA1rMF"
      },
      "outputs": [],
      "source": [
        "import pandas as pd\n",
        "import numpy as np\n",
        "import matplotlib.pyplot as plt\n"
      ]
    },
    {
      "cell_type": "code",
      "source": [
        "df=pd.read_csv(\"odi.csv\")\n",
        "X= df.iloc[:,[7,8,9,12,13]].values\n",
        "y = df.iloc[:, 14].values\n",
        "y"
      ],
      "metadata": {
        "colab": {
          "base_uri": "https://localhost:8080/"
        },
        "id": "p3a-PIz92d6U",
        "outputId": "71ad1e30-32fe-4316-8c80-ae1397b4a644"
      },
      "execution_count": null,
      "outputs": [
        {
          "output_type": "execute_result",
          "data": {
            "text/plain": [
              "array([301, 301, 301, ..., 203, 203, 203])"
            ]
          },
          "metadata": {},
          "execution_count": 12
        }
      ]
    },
    {
      "cell_type": "code",
      "source": [
        "from sklearn.model_selection import train_test_split\n",
        "X_train, X_test, y_train, y_test = train_test_split(X, y, test_size = 0.3, random_state = 0)"
      ],
      "metadata": {
        "id": "LVQMoADS3rdu"
      },
      "execution_count": null,
      "outputs": []
    },
    {
      "cell_type": "code",
      "source": [
        "#Feature Scaling\n",
        "from sklearn.preprocessing import StandardScaler\n",
        "sc = StandardScaler()\n",
        "X_train = sc.fit_transform(X_train)\n",
        "X_test = sc.transform(X_test)\n"
      ],
      "metadata": {
        "id": "h9qOIg5639JN"
      },
      "execution_count": null,
      "outputs": []
    },
    {
      "cell_type": "code",
      "source": [
        "#Linear Regression\n",
        "from sklearn.linear_model import LinearRegression\n",
        "rg = LinearRegression()\n",
        "rg.fit(X_train,y_train)\n",
        "y_test\n",
        "\n"
      ],
      "metadata": {
        "colab": {
          "base_uri": "https://localhost:8080/"
        },
        "id": "n3b12-tH4Z9s",
        "outputId": "3d6c7bd3-e914-4416-ac9d-a5f9cb10da9a"
      },
      "execution_count": null,
      "outputs": [
        {
          "output_type": "execute_result",
          "data": {
            "text/plain": [
              "array([ 80, 220, 256, ..., 228, 139, 292])"
            ]
          },
          "metadata": {},
          "execution_count": 15
        }
      ]
    },
    {
      "cell_type": "code",
      "source": [
        "y_pred=rg.predict(X_test)"
      ],
      "metadata": {
        "id": "nccR1mXuum0P"
      },
      "execution_count": null,
      "outputs": []
    },
    {
      "cell_type": "code",
      "source": [
        "#Predicting the score of a team\n",
        "np.set_printoptions(precision=2)\n",
        "Score = rg.predict(sc.transform([[100,0,13,50,50]]))\n",
        "print(\"Prediction score:\" , Score)\n"
      ],
      "metadata": {
        "colab": {
          "base_uri": "https://localhost:8080/"
        },
        "id": "ylo8v1y75v21",
        "outputId": "a860d5c3-72a7-4795-c601-f86c0dfd2e7d"
      },
      "execution_count": null,
      "outputs": [
        {
          "output_type": "stream",
          "name": "stdout",
          "text": [
            "Prediction score: [322.41]\n"
          ]
        }
      ]
    },
    {
      "cell_type": "code",
      "source": [
        "#R2 Score of linear regression model\n",
        "from sklearn.metrics import r2_score\n",
        "Accuracy_score=r2_score(y_test,y_pred)\n",
        "Accuracy_score"
      ],
      "metadata": {
        "colab": {
          "base_uri": "https://localhost:8080/"
        },
        "id": "t8lSQbZd_oFJ",
        "outputId": "fa2e4cd9-3030-49a9-dee9-028319ac3614"
      },
      "execution_count": null,
      "outputs": [
        {
          "output_type": "execute_result",
          "data": {
            "text/plain": [
              "0.5283464079261613"
            ]
          },
          "metadata": {},
          "execution_count": 17
        }
      ]
    }
  ]
}